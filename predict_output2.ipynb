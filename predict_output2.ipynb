{
  "nbformat": 4,
  "nbformat_minor": 0,
  "metadata": {
    "colab": {
      "provenance": [],
      "authorship_tag": "ABX9TyMZcPwB+awbNDOHrpRZd/ZP"
    },
    "kernelspec": {
      "name": "python3",
      "display_name": "Python 3"
    },
    "language_info": {
      "name": "python"
    }
  },
  "cells": [
    {
      "cell_type": "code",
      "execution_count": null,
      "metadata": {
        "colab": {
          "base_uri": "https://localhost:8080/"
        },
        "id": "Lta_MVpQUt03",
        "outputId": "27c6828a-0d5a-4618-ea46-95bf2e2bad30"
      },
      "outputs": [
        {
          "output_type": "stream",
          "name": "stdout",
          "text": [
            "15 25 -5\n"
          ]
        }
      ],
      "source": [
        "a=10\n",
        "b=20\n",
        "c=-5\n",
        "a,b,a=a+c,b-c,b+c\n",
        "print(a,b,c)"
      ]
    },
    {
      "cell_type": "code",
      "source": [
        "s=\"computer science\"\n",
        "print(s[2]+s[-4]+s[1:7])"
      ],
      "metadata": {
        "colab": {
          "base_uri": "https://localhost:8080/"
        },
        "id": "0jRwn5jzU8Oa",
        "outputId": "df1a3e9d-e7da-4cf9-dd39-200a16c0f2fc"
      },
      "execution_count": null,
      "outputs": [
        {
          "output_type": "stream",
          "name": "stdout",
          "text": [
            "meompute\n"
          ]
        }
      ]
    },
    {
      "cell_type": "code",
      "source": [
        "import random\n",
        "val=[10,20,30,40,50,60,70,80]\n",
        "start=random.randint(1,3)\n",
        "stop=random.randint(start,4)\n",
        "for x in range (start,stop+1):\n",
        "  print(val[x],end=\"#\")"
      ],
      "metadata": {
        "colab": {
          "base_uri": "https://localhost:8080/"
        },
        "id": "KZxoqGgyVJwc",
        "outputId": "01fab3eb-8ac9-437b-c38e-8f702911d0c1"
      },
      "execution_count": null,
      "outputs": [
        {
          "output_type": "stream",
          "name": "stdout",
          "text": [
            "40#"
          ]
        }
      ]
    },
    {
      "cell_type": "code",
      "source": [
        "def changelist(x,y):\n",
        "  x[0]=25\n",
        "  y=[2,3]\n",
        "l1=[-11,-21]\n",
        "l2=[14,23]\n",
        "changelist(l1,l2)\n",
        "print(l1[0],\"#\",l2[0])"
      ],
      "metadata": {
        "colab": {
          "base_uri": "https://localhost:8080/"
        },
        "id": "5eSk6OqEV6al",
        "outputId": "89b04a41-e9b0-4e41-eda0-cf67a6cd6804"
      },
      "execution_count": null,
      "outputs": [
        {
          "output_type": "stream",
          "name": "stdout",
          "text": [
            "25 # 14\n"
          ]
        }
      ]
    },
    {
      "cell_type": "code",
      "source": [
        "l1=[10,90,30,40,50]\n",
        "start=1\n",
        "s=0\n",
        "for c in range(start,4):\n",
        "  s=s+l1[c]\n",
        "  print(c,\":\")\n",
        "s=s+l1[0]*10\n",
        "print(s)"
      ],
      "metadata": {
        "colab": {
          "base_uri": "https://localhost:8080/"
        },
        "id": "HlpLMFUgWb2R",
        "outputId": "c8c86902-87ad-4d8b-ae72-16eb8f19b67c"
      },
      "execution_count": null,
      "outputs": [
        {
          "output_type": "stream",
          "name": "stdout",
          "text": [
            "1 :\n",
            "2 :\n",
            "3 :\n",
            "260\n"
          ]
        }
      ]
    },
    {
      "cell_type": "code",
      "source": [
        "mystr=\"simplequestions\"\n",
        "print(mystr.count('e',2,12))\n",
        "print(mystr.count('pl',2,12))"
      ],
      "metadata": {
        "colab": {
          "base_uri": "https://localhost:8080/"
        },
        "id": "YdC-FTUEXQgq",
        "outputId": "f8a8adcb-c70f-43e9-dab1-b7447a19ffcf"
      },
      "execution_count": null,
      "outputs": [
        {
          "output_type": "stream",
          "name": "stdout",
          "text": [
            "2\n",
            "1\n"
          ]
        }
      ]
    },
    {
      "cell_type": "code",
      "source": [
        "d={'a':'arun','grade':'a'}\n",
        "print(list(d.values()))"
      ],
      "metadata": {
        "colab": {
          "base_uri": "https://localhost:8080/"
        },
        "id": "K-dyWhmqX5IV",
        "outputId": "4224b9c2-6cf3-412b-ad7e-e3a54d747a82"
      },
      "execution_count": null,
      "outputs": [
        {
          "output_type": "stream",
          "name": "stdout",
          "text": [
            "['arun', 'a']\n"
          ]
        }
      ]
    },
    {
      "cell_type": "code",
      "source": [
        "x=25\n",
        "def modify(s,c=2):\n",
        "  global x\n",
        "  for a in s:\n",
        "    if a in 'qweiop':\n",
        "      x//=5\n",
        "      print(a.upper(),'e',c*x)\n",
        "    else:\n",
        "      x+=5\n",
        "      print(a.lower(),\"#\",c+x)\n",
        "stra=\"sara\"\n",
        "modify(stra,10)\n",
        "print(x,'&',stra)\n",
        "strb=\"we\"\n",
        "modify(strb)\n",
        "print(x,'&',strb)"
      ],
      "metadata": {
        "colab": {
          "base_uri": "https://localhost:8080/"
        },
        "id": "tyHa6hEsYRS0",
        "outputId": "6420e753-4bd9-43ee-f088-668946db5c2c"
      },
      "execution_count": null,
      "outputs": [
        {
          "output_type": "stream",
          "name": "stdout",
          "text": [
            "s # 40\n",
            "a # 45\n",
            "r # 50\n",
            "a # 55\n",
            "45 & sara\n",
            "W e 18\n",
            "E e 2\n",
            "1 & we\n"
          ]
        }
      ]
    },
    {
      "cell_type": "code",
      "source": [
        "print(5-2**2**2+99//11)"
      ],
      "metadata": {
        "colab": {
          "base_uri": "https://localhost:8080/"
        },
        "id": "rJVA2Ra-ZXkD",
        "outputId": "b3c0f5e1-f332-4682-f32d-c6aed26af98c"
      },
      "execution_count": null,
      "outputs": [
        {
          "output_type": "stream",
          "name": "stdout",
          "text": [
            "-2\n"
          ]
        }
      ]
    },
    {
      "cell_type": "code",
      "source": [
        "for i in \"bvrit hyderabad\":\n",
        "  print(i.lower(),end=\"#\")"
      ],
      "metadata": {
        "colab": {
          "base_uri": "https://localhost:8080/"
        },
        "id": "zGrSHgasZkPQ",
        "outputId": "388cd353-fc17-4ad8-8a46-dbc2efc07a06"
      },
      "execution_count": null,
      "outputs": [
        {
          "output_type": "stream",
          "name": "stdout",
          "text": [
            "b#v#r#i#t# #h#y#d#e#r#a#b#a#d#"
          ]
        }
      ]
    },
    {
      "cell_type": "code",
      "source": [],
      "metadata": {
        "id": "Y9pj4QwOZw2a"
      },
      "execution_count": null,
      "outputs": []
    }
  ]
}